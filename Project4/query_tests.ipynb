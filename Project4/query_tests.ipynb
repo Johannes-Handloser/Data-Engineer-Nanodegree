{
 "cells": [
  {
   "cell_type": "code",
   "execution_count": 1,
   "metadata": {
    "editable": true
   },
   "outputs": [],
   "source": [
    "# Imports\n",
    "import configparser\n",
    "from datetime import datetime\n",
    "import os\n",
    "from pyspark.sql import SparkSession\n",
    "from pyspark.sql.functions import year, month, dayofmonth, hour, weekofyear, dayofweek, date_format, monotonically_increasing_id, udf, col, to_date\n",
    "from pyspark.sql.types import TimestampType"
   ]
  },
  {
   "cell_type": "code",
   "execution_count": 2,
   "metadata": {
    "editable": true
   },
   "outputs": [],
   "source": [
    "# AWS Cred\n",
    "os.environ['AWS_ACCESS_KEY_ID'] = \"\" \n",
    "os.environ['AWS_SECRET_ACCESS_KEY'] = \"\" "
   ]
  },
  {
   "cell_type": "code",
   "execution_count": 3,
   "metadata": {
    "editable": true
   },
   "outputs": [],
   "source": [
    "# Create Spark Session\n",
    "def create_spark_session():\n",
    "    \"\"\"\n",
    "        Create a Spark Session \n",
    "    \"\"\"\n",
    "    spark = SparkSession \\\n",
    "        .builder \\\n",
    "        .config(\"spark.jars.packages\", \"org.apache.hadoop:hadoop-aws:2.7.0\") \\\n",
    "        .getOrCreate()\n",
    "    return spark"
   ]
  },
  {
   "cell_type": "code",
   "execution_count": 4,
   "metadata": {
    "editable": true
   },
   "outputs": [],
   "source": [
    "spark = create_spark_session()"
   ]
  },
  {
   "cell_type": "code",
   "execution_count": 5,
   "metadata": {
    "editable": true
   },
   "outputs": [],
   "source": [
    "# get filepath to log data file\n",
    "#testdata/logs.json/2018-11-01-events.json\n",
    "log_data = \"s3a://udacity-dend/log_data/2018/11/2018-11-01-events.json\"\n",
    "\n",
    "# read log data file\n",
    "df = spark.read.json(log_data)\n",
    "    \n",
    "# filter by actions for song plays\n",
    "df = df.filter(df.page == \"NextSong\")"
   ]
  },
  {
   "cell_type": "code",
   "execution_count": 6,
   "metadata": {
    "editable": true
   },
   "outputs": [
    {
     "data": {
      "text/plain": [
       "DataFrame[artist: string, auth: string, firstName: string, gender: string, itemInSession: bigint, lastName: string, length: double, level: string, location: string, method: string, page: string, registration: double, sessionId: bigint, song: string, status: bigint, ts: bigint, userAgent: string, userId: string]"
      ]
     },
     "metadata": {},
     "output_type": "display_data"
    },
    {
     "name": "stdout",
     "output_type": "stream",
     "text": [
      "+-------+---------+---------+------+-------------+--------+---------+-----+--------------------+------+--------+-----------------+---------+------------+------+-------------+--------------------+------+\n",
      "| artist|     auth|firstName|gender|itemInSession|lastName|   length|level|            location|method|    page|     registration|sessionId|        song|status|           ts|           userAgent|userId|\n",
      "+-------+---------+---------+------+-------------+--------+---------+-----+--------------------+------+--------+-----------------+---------+------------+------+-------------+--------------------+------+\n",
      "|Des'ree|Logged In|   Kaylee|     F|            1| Summers|246.30812| free|Phoenix-Mesa-Scot...|   PUT|NextSong|1.540344794796E12|      139|You Gotta Be|   200|1541106106796|\"Mozilla/5.0 (Win...|     8|\n",
      "+-------+---------+---------+------+-------------+--------+---------+-----+--------------------+------+--------+-----------------+---------+------------+------+-------------+--------------------+------+\n",
      "only showing top 1 row\n",
      "\n"
     ]
    }
   ],
   "source": [
    "from IPython.display import display\n",
    "\n",
    "display(df)\n",
    "df.show(1)"
   ]
  },
  {
   "cell_type": "code",
   "execution_count": 7,
   "metadata": {
    "editable": true
   },
   "outputs": [
    {
     "name": "stdout",
     "output_type": "stream",
     "text": [
      "+--------------------+\n",
      "|          start_time|\n",
      "+--------------------+\n",
      "|2018-11-01 21:01:...|\n",
      "|2018-11-01 21:05:...|\n",
      "+--------------------+\n",
      "only showing top 2 rows\n",
      "\n"
     ]
    }
   ],
   "source": [
    "# create timestamp column from original timestamp column\n",
    "get_timestamp = udf(lambda x: datetime.fromtimestamp(x / 1000), TimestampType())\n",
    "df = df.withColumn(\"start_time\", get_timestamp(df.ts))\n",
    "df.select(\"start_time\").show(2)"
   ]
  },
  {
   "cell_type": "code",
   "execution_count": 8,
   "metadata": {
    "editable": true
   },
   "outputs": [],
   "source": [
    "# extract columns to create time table\n",
    "time_table = df.select(\"start_time\") \\\n",
    "                        .withColumn(\"hour\", hour(\"start_time\")) \\\n",
    "                        .withColumn(\"day\", dayofmonth(\"start_time\")) \\\n",
    "                        .withColumn(\"week\", weekofyear(\"start_time\")) \\\n",
    "                        .withColumn(\"month\", month(\"start_time\")) \\\n",
    "                        .withColumn(\"year\", year(\"start_time\")) \\\n",
    "                        .withColumn(\"weekday\", dayofweek(\"start_time\")) \\\n",
    "                        .dropDuplicates()"
   ]
  },
  {
   "cell_type": "code",
   "execution_count": 8,
   "metadata": {
    "editable": true
   },
   "outputs": [],
   "source": [
    "song_df = spark.read.json(\"s3a://udacity-dend/song_data/A/A/B/*.json\")"
   ]
  },
  {
   "cell_type": "code",
   "execution_count": 9,
   "metadata": {
    "editable": true
   },
   "outputs": [],
   "source": [
    "# Artists table check\n",
    "artists_table = song_df.select(\"artist_id\", \"artist_latitude\", \"artist_location\", \"artist_longitude\", \"artist_name\").withColumnRenamed(\"artist_name\", \"name\") \\\n",
    "    .withColumnRenamed(\"artist_latitude\", \"latitude\") \\\n",
    "    .withColumnRenamed(\"artist_longitude\", \"longitude\") \\\n",
    "    .withColumnRenamed(\"artist_location\", \"location\") \\\n",
    "    .dropDuplicates()"
   ]
  },
  {
   "cell_type": "code",
   "execution_count": 11,
   "metadata": {
    "editable": true
   },
   "outputs": [],
   "source": [
    "artists_table.createOrReplaceTempView(\"artists_table\")"
   ]
  },
  {
   "cell_type": "code",
   "execution_count": 12,
   "metadata": {
    "editable": true
   },
   "outputs": [
    {
     "name": "stdout",
     "output_type": "stream",
     "text": [
      "+------------------+--------+------------------+---------+------------------+\n",
      "|         artist_id|latitude|          location|longitude|              name|\n",
      "+------------------+--------+------------------+---------+------------------+\n",
      "|ARPIKA31187FB4C233|40.71455|          New York|-74.00712|        The Action|\n",
      "|AR5AA4Q1187FB4CFBD|    null|                  |     null|    Alisha's Attic|\n",
      "|ARV6GHH1187B9AED0D|62.19845|            SWEDEN| 17.55142|      Sofia Talvik|\n",
      "|ARE6D0Y119B8667D9F|    null|                  |     null|Alejandro Santiago|\n",
      "|ARZD4UW1187B9AB3D2|40.71455|NEW YORK, New York|-74.00712|       Latin Lover|\n",
      "+------------------+--------+------------------+---------+------------------+\n",
      "only showing top 5 rows\n",
      "\n"
     ]
    }
   ],
   "source": [
    "artists_table.show(5)"
   ]
  },
  {
   "cell_type": "code",
   "execution_count": 13,
   "metadata": {
    "editable": true
   },
   "outputs": [],
   "source": [
    "# users table check\n",
    "users_table = df.select(\"userId\", \"firstName\", \"lastName\", \"gender\", \"level\").dropDuplicates()"
   ]
  },
  {
   "cell_type": "code",
   "execution_count": 14,
   "metadata": {
    "editable": true
   },
   "outputs": [
    {
     "name": "stdout",
     "output_type": "stream",
     "text": [
      "+------+---------+--------+------+-----+\n",
      "|userId|firstName|lastName|gender|level|\n",
      "+------+---------+--------+------+-----+\n",
      "|   101|   Jayden|     Fox|     M| free|\n",
      "|     8|   Kaylee| Summers|     F| free|\n",
      "|    26|     Ryan|   Smith|     M| free|\n",
      "|    10|   Sylvie|    Cruz|     F| free|\n",
      "+------+---------+--------+------+-----+\n",
      "\n"
     ]
    }
   ],
   "source": [
    "users_table.show(5)"
   ]
  },
  {
   "cell_type": "code",
   "execution_count": 9,
   "metadata": {
    "editable": true
   },
   "outputs": [
    {
     "data": {
      "text/plain": [
       "DataFrame[start_time: timestamp, hour: int, day: int, week: int, month: int, year: int, weekday: int]"
      ]
     },
     "metadata": {},
     "output_type": "display_data"
    },
    {
     "name": "stdout",
     "output_type": "stream",
     "text": [
      "+--------------------+----+---+----+-----+----+-------+\n",
      "|          start_time|hour|day|week|month|year|weekday|\n",
      "+--------------------+----+---+----+-----+----+-------+\n",
      "|2018-11-01 21:42:...|  21|  1|  44|   11|2018|      5|\n",
      "|2018-11-01 21:28:...|  21|  1|  44|   11|2018|      5|\n",
      "|2018-11-01 21:55:...|  21|  1|  44|   11|2018|      5|\n",
      "+--------------------+----+---+----+-----+----+-------+\n",
      "only showing top 3 rows\n",
      "\n"
     ]
    }
   ],
   "source": [
    "display(time_table)\n",
    "time_table.show(3)"
   ]
  },
  {
   "cell_type": "code",
   "execution_count": 16,
   "metadata": {
    "editable": true
   },
   "outputs": [
    {
     "name": "stdout",
     "output_type": "stream",
     "text": [
      "+------------------+--------------------+------------------+----+---------+\n",
      "|           song_id|               title|         artist_id|year| duration|\n",
      "+------------------+--------------------+------------------+----+---------+\n",
      "|SOKPKMV12A8C14125E|Catwalk (Black In...|AR2L9A61187B9ADDBC|1995|492.30322|\n",
      "|SOSRVUJ12AB018731E|       Walk the Walk|ARD8E0V1187FB5C3DB|2000|290.16771|\n",
      "|SODVVEL12A6D4F9EA0|Good Old Wagon (L...|ARI9DQS1187B995625|1964|139.78077|\n",
      "|SONHGLD12AB0188D47|          Our Father|AR1S3NH1187B98C2BC|1999| 202.4224|\n",
      "|SOWBWRV12A6D4FB3D0|          I Know You|AR1LOGZ1187B990FB4|   0|307.46077|\n",
      "+------------------+--------------------+------------------+----+---------+\n",
      "only showing top 5 rows\n",
      "\n"
     ]
    }
   ],
   "source": [
    "songs_table = song_df.select(\"song_id\", \"title\", \"artist_id\", \"year\", \"duration\").dropDuplicates()\n",
    "songs_table.createOrReplaceTempView(\"songs_table\")\n",
    "songs_table.show(5)"
   ]
  },
  {
   "cell_type": "code",
   "execution_count": 17,
   "metadata": {
    "editable": true
   },
   "outputs": [
    {
     "data": {
      "text/plain": [
       "DataFrame[artist: string, auth: string, firstName: string, gender: string, itemInSession: bigint, lastName: string, length: double, level: string, location: string, method: string, page: string, registration: double, sessionId: bigint, song: string, status: bigint, ts: bigint, userAgent: string, userId: string, start_time: timestamp]"
      ]
     },
     "metadata": {},
     "output_type": "display_data"
    }
   ],
   "source": [
    "display(df)"
   ]
  },
  {
   "cell_type": "code",
   "execution_count": 18,
   "metadata": {
    "editable": true
   },
   "outputs": [
    {
     "data": {
      "text/plain": [
       "DataFrame[artist_id: string, artist_latitude: double, artist_location: string, artist_longitude: double, artist_name: string, duration: double, num_songs: bigint, song_id: string, title: string, year: bigint]"
      ]
     },
     "metadata": {},
     "output_type": "display_data"
    }
   ],
   "source": [
    "display(song_df)"
   ]
  },
  {
   "cell_type": "code",
   "execution_count": 19,
   "metadata": {
    "editable": true
   },
   "outputs": [],
   "source": [
    "joined_df = df.join(song_df, song_df.artist_name == df.artist, \"inner\")"
   ]
  },
  {
   "cell_type": "code",
   "execution_count": 20,
   "metadata": {
    "editable": true
   },
   "outputs": [
    {
     "data": {
      "text/plain": [
       "DataFrame[artist: string, auth: string, firstName: string, gender: string, itemInSession: bigint, lastName: string, length: double, level: string, location: string, method: string, page: string, registration: double, sessionId: bigint, song: string, status: bigint, ts: bigint, userAgent: string, userId: string, start_time: timestamp, artist_id: string, artist_latitude: double, artist_location: string, artist_longitude: double, artist_name: string, duration: double, num_songs: bigint, song_id: string, title: string, year: bigint]"
      ]
     },
     "metadata": {},
     "output_type": "display_data"
    }
   ],
   "source": [
    "display(joined_df)"
   ]
  },
  {
   "cell_type": "code",
   "execution_count": 21,
   "metadata": {
    "editable": true
   },
   "outputs": [
    {
     "name": "stdout",
     "output_type": "stream",
     "text": [
      "+------------------+---------------+--------------------+----------------+-----------+---------+---------+------------------+--------------------+----+\n",
      "|         artist_id|artist_latitude|     artist_location|artist_longitude|artist_name| duration|num_songs|           song_id|               title|year|\n",
      "+------------------+---------------+--------------------+----------------+-----------+---------+---------+------------------+--------------------+----+\n",
      "|ARKIQCZ1187B9A7C7C|       52.23974|Northampton, Nort...|        -0.88576|    Bauhaus|248.65914|        1|SOSIJKW12A8C1330E3|A God In An Alcov...|   0|\n",
      "+------------------+---------------+--------------------+----------------+-----------+---------+---------+------------------+--------------------+----+\n",
      "only showing top 1 row\n",
      "\n"
     ]
    }
   ],
   "source": [
    "song_df.show(1)"
   ]
  },
  {
   "cell_type": "code",
   "execution_count": 22,
   "metadata": {
    "editable": true
   },
   "outputs": [
    {
     "name": "stdout",
     "output_type": "stream",
     "text": [
      "+-------+---------+---------+------+-------------+--------+---------+-----+--------------------+------+--------+-----------------+---------+------------+------+-------------+--------------------+------+--------------------+\n",
      "| artist|     auth|firstName|gender|itemInSession|lastName|   length|level|            location|method|    page|     registration|sessionId|        song|status|           ts|           userAgent|userId|          start_time|\n",
      "+-------+---------+---------+------+-------------+--------+---------+-----+--------------------+------+--------+-----------------+---------+------------+------+-------------+--------------------+------+--------------------+\n",
      "|Des'ree|Logged In|   Kaylee|     F|            1| Summers|246.30812| free|Phoenix-Mesa-Scot...|   PUT|NextSong|1.540344794796E12|      139|You Gotta Be|   200|1541106106796|\"Mozilla/5.0 (Win...|     8|2018-11-01 21:01:...|\n",
      "+-------+---------+---------+------+-------------+--------+---------+-----+--------------------+------+--------+-----------------+---------+------------+------+-------------+--------------------+------+--------------------+\n",
      "only showing top 1 row\n",
      "\n"
     ]
    }
   ],
   "source": [
    "df.show(1)"
   ]
  },
  {
   "cell_type": "code",
   "execution_count": 23,
   "metadata": {
    "editable": true
   },
   "outputs": [],
   "source": [
    "songplays_table = joined_df.select(\n",
    "    col(\"start_time\"),\n",
    "    col(\"userId\").alias(\"user_id\"),\n",
    "    col(\"level\"),\n",
    "    col(\"song_id\"),\n",
    "    col(\"artist_id\"),\n",
    "    col(\"sessionId\").alias(\"session_id\"),\n",
    "    col(\"location\"), \n",
    "    year(\"start_time\").alias(\"year\"),\n",
    "    month(\"start_time\").alias(\"month\"),\n",
    "    col(\"userAgent\").alias(\"user_agent\"))\\\n",
    "    .withColumn(\"songplay_id\", monotonically_increasing_id())"
   ]
  },
  {
   "cell_type": "code",
   "execution_count": null,
   "metadata": {
    "editable": true
   },
   "outputs": [],
   "source": []
  }
 ],
 "metadata": {
  "kernelspec": {
   "display_name": "Python 3",
   "language": "python",
   "name": "python3"
  },
  "language_info": {
   "codemirror_mode": {
    "name": "ipython",
    "version": 3
   },
   "file_extension": ".py",
   "mimetype": "text/x-python",
   "name": "python",
   "nbconvert_exporter": "python",
   "pygments_lexer": "ipython3",
   "version": "3.6.3"
  }
 },
 "nbformat": 4,
 "nbformat_minor": 4
}
